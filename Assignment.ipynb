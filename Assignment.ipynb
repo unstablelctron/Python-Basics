{
 "cells": [
  {
   "cell_type": "markdown",
   "id": "50dd7931-336c-4cdb-9a76-71625af52ffc",
   "metadata": {},
   "source": [
    "1- Write a Python program to print \"Hello, World!"
   ]
  },
  {
   "cell_type": "code",
   "execution_count": 7,
   "id": "cf9ffd60-5465-400d-b4f3-88b2106d0892",
   "metadata": {},
   "outputs": [
    {
     "name": "stdout",
     "output_type": "stream",
     "text": [
      "Hello, World!\n"
     ]
    }
   ],
   "source": [
    "print(\"Hello, World!\")"
   ]
  },
  {
   "cell_type": "markdown",
   "id": "75c13486-a59c-4e99-be22-a9417585cffe",
   "metadata": {},
   "source": [
    "2-Write a Python program that displays your name and age"
   ]
  },
  {
   "cell_type": "code",
   "execution_count": 8,
   "id": "fdb6607f-429e-49f6-9961-150248a5b1a2",
   "metadata": {},
   "outputs": [
    {
     "name": "stdout",
     "output_type": "stream",
     "text": [
      "My name is Anand Pathak\n",
      "I am 21 years old\n"
     ]
    }
   ],
   "source": [
    "name = \"Anand Pathak\"\n",
    "age = 21\n",
    "print(\"My name is\",name)\n",
    "print(\"I am\",age,\"years old\")"
   ]
  },
  {
   "cell_type": "markdown",
   "id": "b8cf8b43-e180-4b24-8808-ef546462dc65",
   "metadata": {},
   "source": [
    "3- Write code to print all the pre-defined keywords in Python using the keyword library"
   ]
  },
  {
   "cell_type": "code",
   "execution_count": 9,
   "id": "cc3715e7-a88b-4fe0-b5d7-8a8aad159051",
   "metadata": {},
   "outputs": [
    {
     "name": "stdout",
     "output_type": "stream",
     "text": [
      "\n",
      "Here is a list of the Python keywords.  Enter any keyword to get more help.\n",
      "\n",
      "False               class               from                or\n",
      "None                continue            global              pass\n",
      "True                def                 if                  raise\n",
      "and                 del                 import              return\n",
      "as                  elif                in                  try\n",
      "assert              else                is                  while\n",
      "async               except              lambda              with\n",
      "await               finally             nonlocal            yield\n",
      "break               for                 not                 \n",
      "\n"
     ]
    }
   ],
   "source": [
    "#Keywords are predefined words that holds a special meaning and have specific purpose\n",
    "\n",
    "help('keywords')"
   ]
  },
  {
   "cell_type": "markdown",
   "id": "94b6e459-f9dc-4623-99e1-99f40c002b87",
   "metadata": {},
   "source": [
    "4- Write a program that checks if a given word is a Python keyword."
   ]
  },
  {
   "cell_type": "code",
   "execution_count": 13,
   "id": "63641c5c-8b15-4e0a-95d7-fbce75faf0e4",
   "metadata": {},
   "outputs": [
    {
     "name": "stdin",
     "output_type": "stream",
     "text": [
      "Enter a word:  for\n"
     ]
    },
    {
     "name": "stdout",
     "output_type": "stream",
     "text": [
      "'for' is a Python keyword.\n"
     ]
    }
   ],
   "source": [
    "import keyword\n",
    "word = input(\"Enter a word: \")\n",
    "if keyword.iskeyword(word):\n",
    "    print(f\"'{word}' is a Python keyword.\")\n",
    "else:\n",
    "    print(f\"'{word}' is NOT a Python keyword.\")\n"
   ]
  },
  {
   "cell_type": "markdown",
   "id": "8ffc6df8-2948-4343-a9f7-2277491cf752",
   "metadata": {},
   "source": [
    "5-  Create a list and tuple in Python, and demonstrate how attempting to change an element works differently for each."
   ]
  },
  {
   "cell_type": "code",
   "execution_count": 14,
   "id": "085273e8-e89b-4dfd-96cd-8925243f43d7",
   "metadata": {},
   "outputs": [
    {
     "name": "stdout",
     "output_type": "stream",
     "text": [
      "Original list: [1, 2, 3]\n",
      "Modified list: [1, 20, 3]\n",
      "Original tuple: (1, 2, 3)\n",
      "Error: 'tuple' object does not support item assignment\n"
     ]
    }
   ],
   "source": [
    "my_list = [1, 2, 3]\n",
    "my_tuple = (1, 2, 3)\n",
    "print(\"Original list:\", my_list)\n",
    "my_list[1] = 20\n",
    "print(\"Modified list:\", my_list)\n",
    "print(\"Original tuple:\", my_tuple)\n",
    "try:\n",
    "    my_tuple[1] = 20\n",
    "except TypeError as e:\n",
    "    print(\"Error:\", e)\n"
   ]
  },
  {
   "cell_type": "markdown",
   "id": "413fb5e5-ba06-4493-bdd6-4b545aa09074",
   "metadata": {},
   "source": [
    "6- Write a function to demonstrate the behavior of mutable and immutable arguments."
   ]
  },
  {
   "cell_type": "code",
   "execution_count": 15,
   "id": "ffa78b39-7653-4604-aa18-f6df1fa37df7",
   "metadata": {},
   "outputs": [
    {
     "data": {
      "text/plain": [
       "4.3"
      ]
     },
     "execution_count": 15,
     "metadata": {},
     "output_type": "execute_result"
    }
   ],
   "source": [
    "lst=[1,2,3,4,4.3,3+5j,True,\"Ajay\"]\n",
    "#a list contain all types of data\n",
    "lst[4]"
   ]
  },
  {
   "cell_type": "code",
   "execution_count": 16,
   "id": "efec16da-59ed-4049-a7ab-1d85763874fd",
   "metadata": {},
   "outputs": [
    {
     "data": {
      "text/plain": [
       "[1, 2, 3, 4, 'Vivek', (3+5j), True, 'Ajay']"
      ]
     },
     "execution_count": 16,
     "metadata": {},
     "output_type": "execute_result"
    }
   ],
   "source": [
    "lst[4]=\"Vivek\"\n",
    "lst"
   ]
  },
  {
   "cell_type": "code",
   "execution_count": 18,
   "id": "b566cbed-99f4-4f49-ad8e-e1758497b3d9",
   "metadata": {},
   "outputs": [
    {
     "data": {
      "text/plain": [
       "4.3"
      ]
     },
     "execution_count": 18,
     "metadata": {},
     "output_type": "execute_result"
    }
   ],
   "source": [
    "tpl = (1,2,3,4,4.3,3+5j,True,\"Ajay\")\n",
    "tpl[4]"
   ]
  },
  {
   "cell_type": "code",
   "execution_count": 19,
   "id": "fcbb1391-0880-4c6f-a16c-6e93ef38e2ee",
   "metadata": {},
   "outputs": [
    {
     "ename": "TypeError",
     "evalue": "'tuple' object does not support item assignment",
     "output_type": "error",
     "traceback": [
      "\u001b[1;31m---------------------------------------------------------------------------\u001b[0m",
      "\u001b[1;31mTypeError\u001b[0m                                 Traceback (most recent call last)",
      "Cell \u001b[1;32mIn[19], line 1\u001b[0m\n\u001b[1;32m----> 1\u001b[0m tpl[\u001b[38;5;241m4\u001b[39m]\u001b[38;5;241m=\u001b[39m\u001b[38;5;124m\"\u001b[39m\u001b[38;5;124mVivek\u001b[39m\u001b[38;5;124m\"\u001b[39m\n\u001b[0;32m      2\u001b[0m tpl\n",
      "\u001b[1;31mTypeError\u001b[0m: 'tuple' object does not support item assignment"
     ]
    }
   ],
   "source": [
    "tpl[4]=\"Vivek\"\n",
    "tpl"
   ]
  },
  {
   "cell_type": "markdown",
   "id": "10527595-e2f8-4062-b312-a337d332099f",
   "metadata": {},
   "source": [
    "The error occurs because tuples in Python are immutable, which means once they are created, you cannot modify their elements. You're trying to assign a new value \"Vivek\" to the 5th element (index 4) of a tuple, which is not allowed."
   ]
  },
  {
   "cell_type": "markdown",
   "id": "d4f88ea4-d0a3-41a9-858f-9e7182c6fd1b",
   "metadata": {},
   "source": [
    "7-Write a program that performs basic arithmetic operations on two user-input numbers."
   ]
  },
  {
   "cell_type": "code",
   "execution_count": 23,
   "id": "a131ec95-fd92-4826-8cda-4c610e27459e",
   "metadata": {},
   "outputs": [
    {
     "name": "stdin",
     "output_type": "stream",
     "text": [
      "Enter the number 10\n",
      "Enter the number 20\n"
     ]
    },
    {
     "name": "stdout",
     "output_type": "stream",
     "text": [
      "\n",
      "Results:\n",
      "Addition: 30\n",
      "Subtraction: -10\n",
      "Multiplication: 200\n",
      "Division: 0.5\n"
     ]
    }
   ],
   "source": [
    "num1 = int(input(\"Enter the number\"))\n",
    "num2 = int(input(\"Enter the number\"))\n",
    "addition = num1+ num2\n",
    "subtraction = num1-num2\n",
    "multiplication = num1*num2\n",
    "if num2 != 0:\n",
    "    division = num1 / num2\n",
    "else:\n",
    "    division = (\"Undefined (cannot divide by zero\")\n",
    "print(\"\\nResults:\")\n",
    "print(\"Addition:\", addition)\n",
    "print(\"Subtraction:\", subtraction)\n",
    "print(\"Multiplication:\", multiplication)\n",
    "print(\"Division:\", division)\n",
    "           "
   ]
  },
  {
   "cell_type": "markdown",
   "id": "00c06190-3bcd-4a15-90c2-17fb5d38df92",
   "metadata": {},
   "source": [
    "8- Write a program to demonstrate the use of logical operators."
   ]
  },
  {
   "cell_type": "code",
   "execution_count": 1,
   "id": "98989b38-aa9c-4e12-b514-764e5891966c",
   "metadata": {},
   "outputs": [
    {
     "name": "stdin",
     "output_type": "stream",
     "text": [
      "Enter the first number:  21\n",
      "Enter the second number:  24\n"
     ]
    },
    {
     "name": "stdout",
     "output_type": "stream",
     "text": [
      "Both numbers are positive.\n",
      "At least one number is positive.\n"
     ]
    }
   ],
   "source": [
    "a = int(input(\"Enter the first number: \"))\n",
    "b = int(input(\"Enter the second number: \"))\n",
    "\n",
    "# Demonstrate logical AND\n",
    "if a > 0 and b > 0:\n",
    "    print(\"Both numbers are positive.\")\n",
    "\n",
    "# Demonstrate logical OR\n",
    "if a > 0 or b > 0:\n",
    "    print(\"At least one number is positive.\")\n",
    "\n",
    "# Demonstrate logical NOT\n",
    "if not (a > 0):\n",
    "    print(\"The first number is NOT positive.\")\n"
   ]
  },
  {
   "cell_type": "markdown",
   "id": "225648d0-c962-4c5f-b0e8-0a9f931b4d8c",
   "metadata": {},
   "source": [
    "9- Write a Python program to convert user input from string to integer, float, and boolean types."
   ]
  },
  {
   "cell_type": "code",
   "execution_count": 6,
   "id": "7ec03885-8117-47e5-86be-f5c8b1ff8a4f",
   "metadata": {
    "scrolled": true
   },
   "outputs": [
    {
     "name": "stdin",
     "output_type": "stream",
     "text": [
      "Enter a value:  21\n"
     ]
    },
    {
     "name": "stdout",
     "output_type": "stream",
     "text": [
      "Integer: 21\n",
      "Float: 21.0\n",
      "Boolean: False\n"
     ]
    }
   ],
   "source": [
    "def convert_input():\n",
    "    user_input = input(\"Enter a value: \")\n",
    "    try:\n",
    "        int_value = int(user_input)\n",
    "        print(f\"Integer: {int_value}\")\n",
    "    except ValueError:\n",
    "        print(\"Cannot convert to integer.\")\n",
    "    try:\n",
    "        float_value = float(user_input)\n",
    "        print(f\"Float: {float_value}\")\n",
    "    except ValueError:\n",
    "        print(\"Cannot convert to float.\")\n",
    "\n",
    "    bool_value = user_input.strip().lower() in ['true', 'yes', '1']\n",
    "    print(f\"Boolean: {bool_value}\")\n",
    "\n",
    "if __name__ == \"__main__\":\n",
    "    convert_input()"
   ]
  },
  {
   "cell_type": "markdown",
   "id": "ff530dd3-e558-4a2b-9eeb-ae081b1c27c0",
   "metadata": {},
   "source": [
    "10- Write code to demonstrate type casting with list elements."
   ]
  },
  {
   "cell_type": "code",
   "execution_count": 3,
   "id": "de726d9e-ed49-4c21-9553-30602e939d69",
   "metadata": {},
   "outputs": [
    {
     "name": "stdout",
     "output_type": "stream",
     "text": [
      "Original list: ['10', '20', '30.5', 'True', 'False', 'abc', '0']\n",
      "\n",
      "Converted to integers (invalid items set to None):\n",
      "[10, 20, 30, None, None, None, 0]\n",
      "\n",
      "Converted to floats (invalid items set to None):\n",
      "[10.0, 20.0, 30.5, None, None, None, 0.0]\n",
      "\n",
      "Converted to booleans:\n",
      "[False, False, False, True, False, False, False]\n"
     ]
    }
   ],
   "source": [
    "def demonstrate_type_casting():\n",
    "    str_list = ['10', '20', '30.5', 'True', 'False', 'abc', '0']\n",
    "\n",
    "    print(\"Original list:\",str_list)\n",
    "    \n",
    "    int_list = []\n",
    "    for item in str_list:\n",
    "        try:\n",
    "            int_list.append(int(float(item)))  # Handles '30.5' by converting to float first\n",
    "        except ValueError:\n",
    "            int_list.append(None)\n",
    "    print(\"\\nConverted to integers (invalid items set to None):\")\n",
    "    print(int_list)\n",
    "\n",
    "    # Convert to floats\n",
    "    float_list = []\n",
    "    for item in str_list:\n",
    "        try:\n",
    "            float_list.append(float(item))\n",
    "        except ValueError:\n",
    "            float_list.append(None)\n",
    "    print(\"\\nConverted to floats (invalid items set to None):\")\n",
    "    print(float_list)\n",
    "\n",
    "    # Convert to booleans\n",
    "    bool_list = [s.strip().lower() in ['true', '1', 'yes'] for s in str_list]\n",
    "    print(\"\\nConverted to booleans:\")\n",
    "    print(bool_list)\n",
    "\n",
    "if __name__ == \"__main__\":\n",
    "    demonstrate_type_casting()\n"
   ]
  },
  {
   "cell_type": "markdown",
   "id": "0eecfaa3-7aec-4d7c-9fd7-9946d60dab9f",
   "metadata": {},
   "source": [
    "11- Write a program that checks if a number is positive, negative, or zero"
   ]
  },
  {
   "cell_type": "code",
   "execution_count": 1,
   "id": "13659fe0-1026-4b5a-b7e5-e9ea34991686",
   "metadata": {},
   "outputs": [
    {
     "name": "stdin",
     "output_type": "stream",
     "text": [
      "Enter the value  21\n"
     ]
    },
    {
     "name": "stdout",
     "output_type": "stream",
     "text": [
      "The number is Positive\n"
     ]
    }
   ],
   "source": [
    "try:\n",
    "    num = float(input(\"Enter the value \"))\n",
    "\n",
    "    if num > 0:\n",
    "        print(\"The number is Positive\")\n",
    "    elif num < 0:\n",
    "        print(\"The number is Negative\")\n",
    "    else:\n",
    "        print(\"The number is equal to 0\")\n",
    "except ValueError:\n",
    "    print(\"Enter a Numerical value\")"
   ]
  },
  {
   "cell_type": "markdown",
   "id": "7a64e3af-99db-40d7-9143-6f1478203a7a",
   "metadata": {},
   "source": [
    " 12- Write a for loop to print numbers from 1 to 10."
   ]
  },
  {
   "cell_type": "code",
   "execution_count": 2,
   "id": "55b85408-ba4e-463d-8551-60b6d0be5279",
   "metadata": {},
   "outputs": [
    {
     "name": "stdout",
     "output_type": "stream",
     "text": [
      "1\n",
      "2\n",
      "3\n",
      "4\n",
      "5\n",
      "6\n",
      "7\n",
      "8\n",
      "9\n",
      "10\n"
     ]
    }
   ],
   "source": [
    "for i in range(1,11):\n",
    "    print(i)\n"
   ]
  },
  {
   "cell_type": "markdown",
   "id": "e81808f9-a09e-4704-96de-bbf77d42fad3",
   "metadata": {},
   "source": [
    "13- Write a Python program to find the sum of all even numbers between 1 and 50."
   ]
  },
  {
   "cell_type": "code",
   "execution_count": 10,
   "id": "7b269548-61f3-49ae-b36c-3158124b7b18",
   "metadata": {},
   "outputs": [
    {
     "name": "stdout",
     "output_type": "stream",
     "text": [
      "The sum of even numbers between 1 and 51 is: 650\n"
     ]
    }
   ],
   "source": [
    "total = 0\n",
    "for i in range(1,51):\n",
    "    if i %2==0:\n",
    "        total = total + i\n",
    "print(\"The sum of even numbers between 1 and 51 is:\",total)        "
   ]
  },
  {
   "cell_type": "markdown",
   "id": "587b862f-6fba-49bb-a208-dfdbceeac9c0",
   "metadata": {},
   "source": [
    " 14- Write a program to reverse a string using a while loop."
   ]
  },
  {
   "cell_type": "code",
   "execution_count": 11,
   "id": "b1bc9f03-e66e-4dda-8697-ffc1d1506dca",
   "metadata": {},
   "outputs": [
    {
     "name": "stdin",
     "output_type": "stream",
     "text": [
      "Enter a string:  Anand\n"
     ]
    },
    {
     "name": "stdout",
     "output_type": "stream",
     "text": [
      "Reversed string is: dnanA\n"
     ]
    }
   ],
   "source": [
    "# Get input from the user\n",
    "text = input(\"Enter a string: \")\n",
    "\n",
    "# This will store the reversed string\n",
    "reversed_text = \"\"\n",
    "\n",
    "# Start at the last position of the string\n",
    "index = len(text) - 1\n",
    "\n",
    "# Loop until index goes below 0\n",
    "while index >= 0:\n",
    "    # Add the character at current index to reversed_text\n",
    "    reversed_text = reversed_text + text[index]\n",
    "    # Move to the previous character\n",
    "    index = index - 1\n",
    "\n",
    "# Show the reversed string\n",
    "print(\"Reversed string is:\", reversed_text)\n"
   ]
  },
  {
   "cell_type": "markdown",
   "id": "3c1dae5a-edd6-4f92-862c-4c7b230f1cf8",
   "metadata": {},
   "source": [
    "15-  Write a Python program to calculate the factorial of a number provided by the user using a while loop"
   ]
  },
  {
   "cell_type": "code",
   "execution_count": 12,
   "id": "f69dd4dc-ec45-4ed9-b9ff-2620c184eb2c",
   "metadata": {},
   "outputs": [
    {
     "name": "stdin",
     "output_type": "stream",
     "text": [
      "Enter a non-negative integer:  24\n"
     ]
    },
    {
     "name": "stdout",
     "output_type": "stream",
     "text": [
      "Factorial of 24 is 620448401733239439360000\n"
     ]
    }
   ],
   "source": [
    "# Get input from the user and convert it to an integer\n",
    "num = int(input(\"Enter a non-negative integer: \"))\n",
    "\n",
    "# Initialize factorial result to 1 (because factorial of 0 or 1 is 1)\n",
    "factorial = 1\n",
    "\n",
    "# Initialize a counter variable\n",
    "i = 1\n",
    "\n",
    "# Use a while loop to multiply factorial by each number from 1 to num\n",
    "while i <= num:\n",
    "    factorial = factorial * i\n",
    "    i = i + 1\n",
    "\n",
    "# Print the factorial result\n",
    "print(\"Factorial of\", num, \"is\", factorial)\n"
   ]
  },
  {
   "cell_type": "code",
   "execution_count": null,
   "id": "9ccef117-3165-4eb5-81cc-886ddc752f05",
   "metadata": {},
   "outputs": [],
   "source": []
  }
 ],
 "metadata": {
  "kernelspec": {
   "display_name": "Python [conda env:base] *",
   "language": "python",
   "name": "conda-base-py"
  },
  "language_info": {
   "codemirror_mode": {
    "name": "ipython",
    "version": 3
   },
   "file_extension": ".py",
   "mimetype": "text/x-python",
   "name": "python",
   "nbconvert_exporter": "python",
   "pygments_lexer": "ipython3",
   "version": "3.12.7"
  }
 },
 "nbformat": 4,
 "nbformat_minor": 5
}
